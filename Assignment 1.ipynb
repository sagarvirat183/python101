{
 "cells": [
  {
   "cell_type": "markdown",
   "metadata": {},
   "source": [
    "**Task** 1: Program to find largest No in List"
   ]
  },
  {
   "cell_type": "code",
   "execution_count": 2,
   "metadata": {},
   "outputs": [
    {
     "name": "stdout",
     "output_type": "stream",
     "text": [
      "Do you want to add No in List press (y) or No (N)y\n",
      "Please Enter No:-23\n",
      "Do you want to add No in List press (y) or No (N)y\n",
      "Please Enter No:-44\n",
      "Do you want to add No in List press (y) or No (N)y\n",
      "Please Enter No:-65\n",
      "Do you want to add No in List press (y) or No (N)n\n",
      "Your List is:- [23, 44, 65]\n",
      "Largest No is:- 65\n"
     ]
    }
   ],
   "source": [
    "listOfNo = []\n",
    "while(True):\n",
    "    choice = input(\"Do you want to add No in List press (y) or No (N)\")\n",
    "    if(choice == 'N' or choice == 'n'):\n",
    "        break;\n",
    "    if(choice == 'Y' or choice == 'y'):\n",
    "        listOfNo.append(int(input(\"Please Enter No:-\")))\n",
    "print(\"Your List is:-\", listOfNo)\n",
    "if(len(listOfNo) > 0):\n",
    "    print(\"Largest No is:-\", max(listOfNo))"
   ]
  },
  {
   "cell_type": "markdown",
   "metadata": {},
   "source": [
    "Task 2:- Program To find second largest no in List \n"
   ]
  },
  {
   "cell_type": "code",
   "execution_count": 3,
   "metadata": {},
   "outputs": [
    {
     "name": "stdout",
     "output_type": "stream",
     "text": [
      "Do you want to add No in List press (y) or No (N)y\n",
      "Please Enter No:-45\n",
      "Do you want to add No in List press (y) or No (N)y\n",
      "Please Enter No:-56\n",
      "Do you want to add No in List press (y) or No (N)y\n",
      "Please Enter No:-89\n",
      "Do you want to add No in List press (y) or No (N)n\n",
      "Your List is:- [45, 56, 89]\n",
      "Second Largest No is:- 56\n"
     ]
    }
   ],
   "source": [
    "listOfNo = []\n",
    "while(True):\n",
    "    choice = input(\"Do you want to add No in List press (y) or No (N)\")\n",
    "    if(choice == 'N' or choice == 'n'):\n",
    "        break;\n",
    "    if(choice == 'Y' or choice == 'y'):\n",
    "        listOfNo.append(int(input(\"Please Enter No:-\")))\n",
    "print(\"Your List is:-\", listOfNo)\n",
    "if(len(listOfNo) > 1):\n",
    "    listOfNo.sort()\n",
    "    print(\"Second Largest No is:-\",listOfNo[-2] )\n",
    "else:\n",
    "    print(\"Please enter atleast 2 no.s\")\n"
   ]
  },
  {
   "cell_type": "markdown",
   "metadata": {},
   "source": [
    "*Task** 3:- Program To merge two list and sort new list \n"
   ]
  },
  {
   "cell_type": "code",
   "execution_count": 4,
   "metadata": {},
   "outputs": [
    {
     "name": "stdout",
     "output_type": "stream",
     "text": [
      "Enter First List:-34 45 46 78 5\n",
      "Enter First List:-45 56 23 89 58\n",
      "Both list Before Merge and sort\n",
      "[34, 45, 46, 78, 5]\n",
      "[45, 56, 23, 89, 58]\n",
      "Merged both List and sorted...\n",
      "[5, 23, 34, 45, 45, 46, 56, 58, 78, 89]\n"
     ]
    }
   ],
   "source": [
    "firstList = list(map(int,input(\"Enter First List:-\").split()))\n",
    "secondList = list(map(int,input(\"Enter First List:-\").split()))\n",
    "print(\"Both list Before Merge and sort\")\n",
    "print(firstList)\n",
    "print(secondList)\n",
    "listMerge = firstList + secondList\n",
    "print(\"Merged both List and sorted...\")\n",
    "listMerge.sort()\n",
    "print(listMerge)"
   ]
  },
  {
   "cell_type": "markdown",
   "metadata": {},
   "source": [
    "*Task* 4:- Program to swap 1st and last element in List\n"
   ]
  },
  {
   "cell_type": "code",
   "execution_count": 5,
   "metadata": {},
   "outputs": [
    {
     "name": "stdout",
     "output_type": "stream",
     "text": [
      "Enter First List:-21 34 45 57 67 \n",
      "List before Swap:-\n",
      "[21, 34, 45, 57, 67]\n",
      "List after Swap\n",
      "[67, 34, 45, 57, 21]\n"
     ]
    }
   ],
   "source": [
    "firstList = list(map(int,input(\"Enter First List:-\").split()))\n",
    "print(\"List before Swap:-\")\n",
    "print(firstList)\n",
    "temp = firstList[0];\n",
    "firstList[0] = firstList[-1]\n",
    "firstList[-1] = temp\n",
    "print(\"List after Swap\")\n",
    "print(firstList)"
   ]
  },
  {
   "cell_type": "code",
   "execution_count": null,
   "metadata": {
    "collapsed": true
   },
   "outputs": [],
   "source": []
  }
 ],
 "metadata": {
  "kernelspec": {
   "display_name": "Python 3",
   "language": "python",
   "name": "python3"
  },
  "language_info": {
   "codemirror_mode": {
    "name": "ipython",
    "version": 3
   },
   "file_extension": ".py",
   "mimetype": "text/x-python",
   "name": "python",
   "nbconvert_exporter": "python",
   "pygments_lexer": "ipython3",
   "version": "3.6.3"
  }
 },
 "nbformat": 4,
 "nbformat_minor": 2
}
